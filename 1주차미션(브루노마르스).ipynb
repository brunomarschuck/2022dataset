{
  "cells": [
    {
      "cell_type": "markdown",
      "metadata": {
        "id": "view-in-github",
        "colab_type": "text"
      },
      "source": [
        "<a href=\"https://colab.research.google.com/github/brunomarschuck/2022dataset/blob/main/1%EC%A3%BC%EC%B0%A8%EB%AF%B8%EC%85%98(%EB%B8%8C%EB%A3%A8%EB%85%B8%EB%A7%88%EB%A5%B4%EC%8A%A4).ipynb\" target=\"_parent\"><img src=\"https://colab.research.google.com/assets/colab-badge.svg\" alt=\"Open In Colab\"/></a>"
      ]
    },
    {
      "cell_type": "markdown",
      "metadata": {
        "id": "w1RneE3dJjbi"
      },
      "source": [
        "#[코로나19 자가진단 프로그램]\n",
        "##1주차 미션\n",
        "재외한국학교에서 근무 중이라 교육부 어플을 사용할 수가 없어  \n",
        "'모닝페퍼'님과 '재미코딩'님의 과제를 참고함\n",
        "\n",
        "\n",
        "[모닝페퍼님 과제]\n",
        "https://colab.research.google.com/drive/1ck02uLIv9Gzva5m8N7k3zr7k5ZS3SwZj?usp=sharing\n",
        "\n",
        "[재미코딩님 과제]\n",
        "https://colab.research.google.com/drive/1EXl0HbpVfhd6HjvICZmSZMTCWSmz58qF#scrollTo=54IV8AHMOB5x\n",
        "\n"
      ]
    },
    {
      "cell_type": "code",
      "execution_count": null,
      "metadata": {
        "colab": {
          "background_save": true,
          "base_uri": "https://localhost:8080/"
        },
        "id": "SMBW18qIJmht",
        "outputId": "ec1eb038-409a-4693-ab05-db70f07a08e7"
      },
      "outputs": [
        {
          "name": "stdout",
          "output_type": "stream",
          "text": [
            "코로나19 자가진단\n",
            "로그인을 해 주십시오.\n"
          ]
        }
      ],
      "source": [
        "#접속 시 화면\n",
        "import time\n",
        "print('코로나19 자가진단')\n",
        "time.sleep(1)\n",
        "print('로그인을 해 주십시오.')\n",
        "time.sleep(1)\n",
        "\n",
        "\n",
        "#사용자 id, pw는 미리 지정(회원가입한 사용자)\n",
        "my_id = '브루노마르스'\n",
        "my_pw = '123456'\n",
        "\n",
        "\n",
        "#로그인 화면(실패 시 재입력하라는 멘트 출력)\n",
        "while True:\n",
        "  input_id = input('아이디를 입력해주십시오. : ')\n",
        "  input_pw = input('비밀번호를 입력해주십시오. : ')\n",
        "  time.sleep(1)\n",
        "\n",
        "  if my_id == input_id and my_pw == input_pw :\n",
        "    print('환영합니다!')\n",
        "    break\n",
        "  elif my_id == input_id :\n",
        "    print('비밀번호를 확인해 주십시오!')\n",
        "  else :\n",
        "    print('아이디를 확인해 주십시오!')\n",
        "\n",
        "\n",
        "#자가진단 화면\n",
        "time.sleep(1)\n",
        "print('코로나19 자가진단을 시작합니다.')\n",
        "time.sleep(0.5)\n",
        "print('모든 답변은 번호로 입력해주시기 바랍니다.')\n",
        "\n",
        "\n",
        "#문항 3개의 코드를 따로 입력(잘못 입력했을 경우 대비)\n",
        "while True:\n",
        "  time.sleep(1)\n",
        "  print('1.귀하는 현재 이하와 같은 코로나 19가 의심되는 임상증상이 있나요?\\n (기침, 호흡곤란, 오한, 근육통, 두통, 인후통, 후각/미각소실)')\n",
        "  print(' 1) 아니오  2) 예')\n",
        "\n",
        "  a1 = input('해당되는 번호를 입력해주세요. : ')\n",
        "  if a1 == '1' or a1 == '2': \n",
        "    break\n",
        "  else:\n",
        "    print('잘못 입력하셨습니다.')\n",
        "\n",
        "while True:\n",
        "  time.sleep(1)\n",
        "  print('2.귀하는 오늘(어제 저녁 포함) 신속항원검사(자가진단)를 실시했나요?')\n",
        "  print(' 1) 아니오  2) 검사 결과 음성  3) 검사 결과 양성')\n",
        "\n",
        "  a2 = input('해당되는 번호를 입력해주세요. : ')\n",
        "  if a2 == '1' or a2 == '2' or a2 == '3':\n",
        "    break\n",
        "  else:\n",
        "    print('잘못 입력하셨습니다.')\n",
        "\n",
        "while True:\n",
        "  time.sleep(1)\n",
        "  print('3.귀하 본인이 PCR 등 검사를 받고 그 결과를 기다리고 있나요?')\n",
        "  print(' 1) 아니오  2) 예')\n",
        "\n",
        "  a3 = input('해당되는 번호를 입력해주세요. : ')\n",
        "  if a3 == '1' or a3 == '2':\n",
        "    break\n",
        "  else:\n",
        "    print('잘못 입력하셨습니다.')\n",
        "\n",
        "\n",
        "#진단결과 화면\n",
        "#출근 불가능한 경우는 a1 == '2' 또는 a2 == '3' 또는 a3 == '2'일 때임\n",
        "#위 경우를 제외하고는 모두 출근가능으로 표시\n",
        "time.sleep(2)\n",
        "\n",
        "if a1 == '2' or a2 == '3' or a3 == '2':\n",
        "  print('자가진단 결과를 확인합니다.')\n",
        "  print('귀하는 오늘 출근이 불가합니다.')\n",
        "  print('---------------------------------------------------------')\n",
        "  \n",
        "else:\n",
        "  print('자가진단 결과를 확인합니다.')\n",
        "  print('귀하는 오늘 출근이 가능합니다.')\n",
        "  print('---------------------------------------------------------')\n",
        "  "
      ]
    }
  ],
  "metadata": {
    "colab": {
      "name": "1주차미션(브루노마르스).ipynb",
      "provenance": [],
      "authorship_tag": "ABX9TyMiTHiAYIM0gpxS2WhBnbxa",
      "include_colab_link": true
    },
    "kernelspec": {
      "display_name": "Python 3",
      "name": "python3"
    },
    "language_info": {
      "name": "python"
    }
  },
  "nbformat": 4,
  "nbformat_minor": 0
}